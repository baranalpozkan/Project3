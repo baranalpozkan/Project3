{
 "cells": [
  {
   "cell_type": "code",
   "execution_count": null,
   "id": "e1bfcdea-3c4d-4bd3-82b4-a1e0c59abd77",
   "metadata": {},
   "outputs": [],
   "source": [
    "Proje 3\n",
    "[7, 5, 1, 8, 3, 6, 0, 9, 4, 2] dizisinin Binary-Search-Tree aşamalarını yazınız.\n",
    "\n",
    "Örnek: root x'dir. root'un sağından y bulunur. Solunda z bulunur vb."
   ]
  },
  {
   "cell_type": "code",
   "execution_count": null,
   "id": "bc0f7503-46d2-4af7-be6d-5aba939aa8a8",
   "metadata": {},
   "outputs": [],
   "source": [
    "Answer:\n",
    "    \n",
    "root = [5]\n",
    "root bir alt satır sağında -> [8] ->[8]'in bir alt satır sağında [9], solunda [7]\n",
    "[9}'ün bir alt satır solunda [6]\n",
    "root bir alt satır solunda -> [3] ->[3]'ün bir alt satır sağında [4], solunda [1]\n",
    "[1] bir alt satır solunda [0], bşr alt satır sağında [2]"
   ]
  }
 ],
 "metadata": {
  "kernelspec": {
   "display_name": "Python 3 (ipykernel)",
   "language": "python",
   "name": "python3"
  },
  "language_info": {
   "codemirror_mode": {
    "name": "ipython",
    "version": 3
   },
   "file_extension": ".py",
   "mimetype": "text/x-python",
   "name": "python",
   "nbconvert_exporter": "python",
   "pygments_lexer": "ipython3",
   "version": "3.8.8"
  }
 },
 "nbformat": 4,
 "nbformat_minor": 5
}
